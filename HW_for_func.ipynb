{
 "cells": [
  {
   "cell_type": "markdown",
   "source": [
    "<h3> Цикл for. Функции  <h3>"
   ],
   "metadata": {
    "collapsed": false
   },
   "id": "5bf9e23979eaf2f8"
  },
  {
   "cell_type": "markdown",
   "source": [
    "<a>Задача 1.\n",
    "Напишите функцию two_a(), которая принимает в качестве аргумента строку и возвращает True, если в этой строке есть ровно 2 буквы \"а\" (русская раскладка). В противном случае функция должна вернуть Fasle.<a>"
   ],
   "metadata": {
    "collapsed": false,
    "ExecuteTime": {
     "end_time": "2023-10-15T21:57:58.162867Z",
     "start_time": "2023-10-15T21:57:58.154239Z"
    }
   },
   "id": "17d33efe4c5cee3c"
  },
  {
   "cell_type": "code",
   "execution_count": null,
   "outputs": [],
   "source": [
    "   "
   ],
   "metadata": {
    "collapsed": false,
    "ExecuteTime": {
     "end_time": "2023-10-15T23:32:43.280468Z",
     "start_time": "2023-10-15T23:32:43.278409Z"
    }
   },
   "id": "d71dc53bd88df5b3"
  },
  {
   "cell_type": "markdown",
   "source": [
    "<a>Задача 2.<a>\n",
    "Напишите функцию devisors(), которая принимает в качестве аргумента числа, а возвращает список его делителей<a>"
   ],
   "metadata": {
    "collapsed": false,
    "ExecuteTime": {
     "end_time": "2023-10-15T21:57:52.567134Z",
     "start_time": "2023-10-15T21:57:52.561024Z"
    }
   },
   "id": "d1d5219dde58cc00"
  },
  {
   "cell_type": "code",
   "execution_count": null,
   "outputs": [],
   "source": [],
   "metadata": {
    "collapsed": false,
    "ExecuteTime": {
     "end_time": "2023-10-15T23:32:43.284984Z",
     "start_time": "2023-10-15T23:32:43.280954Z"
    }
   },
   "id": "c7dffcc92b27f59c"
  },
  {
   "cell_type": "markdown",
   "source": [
    "<a>Задача 3.<a>\n",
    "Напишите функцию respID(), которая принимает в качестве аргумента список респондентов, а возвращает кортеж, где первый элемент имя респондента, а второй уникальный ID, вида \"ID123\" (можно сгенерировать при помощи модуля random). Уникальный означает, что у двух испытуемых не может быть двух одинаковых ID<a>"
   ],
   "metadata": {
    "collapsed": false,
    "ExecuteTime": {
     "end_time": "2023-10-15T21:50:06.639230Z",
     "start_time": "2023-10-15T21:50:06.635095Z"
    }
   },
   "id": "9b3f80b99019df2a"
  },
  {
   "cell_type": "code",
   "execution_count": 1,
   "outputs": [],
   "source": [
    "# Список для задачки\n",
    "resps = [\"Юлия Полякова\", \"Владимир Ильин\", \"Оксана Ковалева\", \"Роман Федоров\", \"Татьяна Лебедева\" ]\n"
   ],
   "metadata": {
    "collapsed": false,
    "ExecuteTime": {
     "end_time": "2023-10-15T23:35:31.051086Z",
     "start_time": "2023-10-15T23:35:31.046975Z"
    }
   },
   "id": "e4ed18c86151f641"
  },
  {
   "cell_type": "markdown",
   "source": [
    "<a>Задача 4.\n",
    "Напишите функцию harmony(), которая принимает на вход число, а возвращает среднее гармоническое цифр в этом числе. Если в аргументе функции строка, то функция должна напечатать \"Введите, пожалуйста, число!!!\"<a>"
   ],
   "metadata": {
    "collapsed": false,
    "ExecuteTime": {
     "end_time": "2023-10-10T17:35:25.795710Z",
     "start_time": "2023-10-10T17:35:25.789309Z"
    }
   },
   "id": "bbcd3643253f57f0"
  },
  {
   "cell_type": "code",
   "execution_count": 48,
   "outputs": [],
   "source": [],
   "metadata": {
    "collapsed": false,
    "ExecuteTime": {
     "end_time": "2023-10-15T22:56:38.309619Z",
     "start_time": "2023-10-15T22:56:38.307315Z"
    }
   },
   "id": "d1bc48f6582e4b9e"
  },
  {
   "cell_type": "markdown",
   "source": [
    "<a>Задача 5.<a>\n",
    "<a>Напишите функцию many_divisors(), которая принимает на вход несколько аргументов-чисел, а при запуске выводит построчно для каждого из них через запятую все их делители.<a>"
   ],
   "metadata": {
    "collapsed": false,
    "ExecuteTime": {
     "end_time": "2023-10-10T17:35:26.388369Z",
     "start_time": "2023-10-10T17:35:26.384780Z"
    }
   },
   "id": "b519c4c5d8982232"
  },
  {
   "cell_type": "code",
   "execution_count": 49,
   "outputs": [],
   "source": [],
   "metadata": {
    "collapsed": false
   },
   "id": "433e3c564e16982b"
  },
  {
   "cell_type": "markdown",
   "source": [
    "<a>Задача 6.1\n",
    "Напишите функцию factorial(), которая будет принимать на вход число, а возвращать его факториал. В теле функции должен быть цикл for.<a>"
   ],
   "metadata": {
    "collapsed": false
   },
   "id": "9ae6d8c7fde5e300"
  },
  {
   "cell_type": "code",
   "execution_count": 49,
   "outputs": [],
   "source": [],
   "metadata": {
    "collapsed": false
   },
   "id": "5b5fe8b2b7859786"
  },
  {
   "cell_type": "markdown",
   "source": [
    "<a>Задача 6.2\n",
    "Напишите функцию factorial(), которая будет принимать на вход число, а возвращать его факториал. В теле функции НЕ должно быть цикла for.<a>"
   ],
   "metadata": {
    "collapsed": false
   },
   "id": "bdf6f6241ee1a296"
  },
  {
   "cell_type": "code",
   "execution_count": null,
   "outputs": [],
   "source": [],
   "metadata": {
    "collapsed": false
   },
   "id": "d22ee74256a76b54"
  }
 ],
 "metadata": {
  "kernelspec": {
   "display_name": "Python 3",
   "language": "python",
   "name": "python3"
  },
  "language_info": {
   "codemirror_mode": {
    "name": "ipython",
    "version": 2
   },
   "file_extension": ".py",
   "mimetype": "text/x-python",
   "name": "python",
   "nbconvert_exporter": "python",
   "pygments_lexer": "ipython2",
   "version": "2.7.6"
  }
 },
 "nbformat": 4,
 "nbformat_minor": 5
}
