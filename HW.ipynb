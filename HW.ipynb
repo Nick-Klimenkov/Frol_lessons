{
 "cells": [
  {
   "cell_type": "markdown",
   "source": [
    "<h3> Цикл while <h3>"
   ],
   "metadata": {
    "collapsed": false
   },
   "id": "5bf9e23979eaf2f8"
  },
  {
   "cell_type": "markdown",
   "source": [
    "<a>Задача 1.<a>\n",
    "<a>Простое число делится на себя и единицу! \n",
    "Напишите программу, которая прочитает число и выведет \"prime\" если число простое и \n",
    "\"composite\" в противном случае<a>"
   ],
   "metadata": {
    "collapsed": false,
    "ExecuteTime": {
     "end_time": "2023-10-15T21:57:58.162867Z",
     "start_time": "2023-10-15T21:57:58.154239Z"
    }
   },
   "id": "17d33efe4c5cee3c"
  },
  {
   "cell_type": "code",
   "execution_count": 45,
   "outputs": [],
   "source": [
    "   "
   ],
   "metadata": {
    "collapsed": false,
    "ExecuteTime": {
     "end_time": "2023-10-15T22:54:01.691345Z",
     "start_time": "2023-10-15T22:54:01.686662Z"
    }
   },
   "id": "d71dc53bd88df5b3"
  },
  {
   "cell_type": "markdown",
   "source": [
    "<a>Задача 2.<a>\n",
    "<a>Напишите программу, которая принимает вещественные числа на вход,\n",
    "пока не будет введена точка \".\" Найдите максимум введенной последовательности.\n",
    "Последовательность не пустая.<a>"
   ],
   "metadata": {
    "collapsed": false,
    "ExecuteTime": {
     "end_time": "2023-10-15T21:57:52.567134Z",
     "start_time": "2023-10-15T21:57:52.561024Z"
    }
   },
   "id": "d1d5219dde58cc00"
  },
  {
   "cell_type": "code",
   "execution_count": 45,
   "outputs": [],
   "source": [],
   "metadata": {
    "collapsed": false,
    "ExecuteTime": {
     "end_time": "2023-10-15T22:54:02.229343Z",
     "start_time": "2023-10-15T22:54:02.225293Z"
    }
   },
   "id": "c7dffcc92b27f59c"
  },
  {
   "cell_type": "markdown",
   "source": [
    "<a>Задача 3.<a>\n",
    "<a>Выведите год, месяц и день на отдельных строках.\n",
    "Пример ввода: \"2023-04-03\" \n",
    "Пример вывода: 2023 04 03<a>"
   ],
   "metadata": {
    "collapsed": false,
    "ExecuteTime": {
     "end_time": "2023-10-15T21:50:06.639230Z",
     "start_time": "2023-10-15T21:50:06.635095Z"
    }
   },
   "id": "9b3f80b99019df2a"
  },
  {
   "cell_type": "code",
   "execution_count": 46,
   "outputs": [],
   "source": [],
   "metadata": {
    "collapsed": false,
    "ExecuteTime": {
     "end_time": "2023-10-15T22:54:02.734036Z",
     "start_time": "2023-10-15T22:54:02.728899Z"
    }
   },
   "id": "e4ed18c86151f641"
  },
  {
   "cell_type": "markdown",
   "source": [
    "<a>Задача 4.<a>\n",
    "<a>Найдите второй максимум последовательности, т.е. второе по величине. В последовательности есть хотя бы два числа.\n",
    "Числа могут быть вещественные.<a>"
   ],
   "metadata": {
    "collapsed": false,
    "ExecuteTime": {
     "end_time": "2023-10-10T17:35:25.795710Z",
     "start_time": "2023-10-10T17:35:25.789309Z"
    }
   },
   "id": "bbcd3643253f57f0"
  },
  {
   "cell_type": "code",
   "execution_count": 46,
   "outputs": [],
   "source": [],
   "metadata": {
    "collapsed": false,
    "ExecuteTime": {
     "end_time": "2023-10-15T22:54:03.341135Z",
     "start_time": "2023-10-15T22:54:03.337653Z"
    }
   },
   "id": "d1bc48f6582e4b9e"
  },
  {
   "cell_type": "markdown",
   "source": [
    "<a>Задача 5.<a>\n",
    "<a>Программа принимает на вход числа пока не будет введена точка \".\"\n",
    "Программа должна вывести в двух строках сумма отрицательных и положительных чисел.<a>"
   ],
   "metadata": {
    "collapsed": false,
    "ExecuteTime": {
     "end_time": "2023-10-10T17:35:26.388369Z",
     "start_time": "2023-10-10T17:35:26.384780Z"
    }
   },
   "id": "b519c4c5d8982232"
  },
  {
   "cell_type": "code",
   "execution_count": 47,
   "outputs": [],
   "source": [],
   "metadata": {
    "collapsed": false,
    "ExecuteTime": {
     "end_time": "2023-10-15T22:54:03.795696Z",
     "start_time": "2023-10-15T22:54:03.791030Z"
    }
   },
   "id": "433e3c564e16982b"
  },
  {
   "cell_type": "markdown",
   "source": [
    "<a>Задача 6.<a>\n",
    "<a>Напишите программу, которая будет вычислять n-ое число Фибоначчи. Число n, которое подается на вход программе, может принимать значения от 0 до 20.<a>"
   ],
   "metadata": {
    "collapsed": false,
    "ExecuteTime": {
     "end_time": "2023-10-10T17:35:27.095476Z",
     "start_time": "2023-10-10T17:35:27.089033Z"
    }
   },
   "id": "9ae6d8c7fde5e300"
  },
  {
   "cell_type": "code",
   "execution_count": 47,
   "outputs": [],
   "source": [],
   "metadata": {
    "collapsed": false,
    "ExecuteTime": {
     "end_time": "2023-10-15T22:54:04.274067Z",
     "start_time": "2023-10-15T22:54:04.269921Z"
    }
   },
   "id": "5b5fe8b2b7859786"
  },
  {
   "cell_type": "markdown",
   "source": [
    "<h3> Цикл for. Срезы строк <h3>"
   ],
   "metadata": {
    "collapsed": false,
    "ExecuteTime": {
     "end_time": "2023-10-10T17:35:27.695419Z",
     "start_time": "2023-10-10T17:35:27.691049Z"
    }
   },
   "id": "79f1fb6ace91d675"
  },
  {
   "cell_type": "markdown",
   "source": [
    "<a>Задача 1.<a>\n",
    "<a>Прочитайте строку, из прочитанной строки выведите только нечетные символы.<a>"
   ],
   "metadata": {
    "collapsed": false
   },
   "id": "2c103756c7378539"
  },
  {
   "cell_type": "code",
   "execution_count": 1,
   "outputs": [],
   "source": [],
   "metadata": {
    "collapsed": false,
    "ExecuteTime": {
     "end_time": "2023-10-10T18:16:17.288944Z",
     "start_time": "2023-10-10T18:16:17.283661Z"
    }
   },
   "id": "ac8c511f334ef55d"
  },
  {
   "cell_type": "markdown",
   "source": [
    "<a>Задача 2.<a>\n",
    "<a>Прочитайте строку состоящую из цифр. Превратите её в список чисел, каждое число в котором будет цифрой из строки. Посчитайте среднее арифметическое все чисел в списке.<a>"
   ],
   "metadata": {
    "collapsed": false
   },
   "id": "8f7d17ad9e35401"
  },
  {
   "cell_type": "code",
   "execution_count": 1,
   "outputs": [],
   "source": [],
   "metadata": {
    "collapsed": false,
    "ExecuteTime": {
     "end_time": "2023-10-10T18:16:17.634858Z",
     "start_time": "2023-10-10T18:16:17.628744Z"
    }
   },
   "id": "85a77d80b736dbdf"
  },
  {
   "cell_type": "markdown",
   "source": [
    "<a>Задача 3.<a>\n",
    "<a>Прочитайте две строки и создайте список, в котором будут чередоваться символы из первой и второй строк.\n",
    "Строки, которые подаются на вход в этой задаче, одинаковой длины.\n",
    "Пример ввода:\n",
    "hello\n",
    "world\n",
    "Пример вывода:\n",
    "['h', 'w', 'e', 'o', 'l', 'r', 'l', 'l', 'o', 'd']<a>"
   ],
   "metadata": {
    "collapsed": false
   },
   "id": "a4f8cc15eb44279d"
  },
  {
   "cell_type": "code",
   "execution_count": 1,
   "outputs": [],
   "source": [],
   "metadata": {
    "collapsed": false,
    "ExecuteTime": {
     "end_time": "2023-10-10T18:16:18.166519Z",
     "start_time": "2023-10-10T18:16:18.158005Z"
    }
   },
   "id": "738fa1e3dc635858"
  },
  {
   "cell_type": "markdown",
   "source": [
    "<a>Задача 4.<a>\n",
    "<a>Прочитайте последовательность целых чисел (до введенной точки). Выведите список, в котором на первом месте будет стоять максимум последотвательности, а потом будут идти все остальные числа в исходном порядке.\n",
    "Пример ввода:\n",
    "1\n",
    "2\n",
    "3\n",
    ".\n",
    "Пример вывода:\n",
    "[3, 1, 2]<a>"
   ],
   "metadata": {
    "collapsed": false,
    "ExecuteTime": {
     "end_time": "2023-10-10T17:35:31.037159Z",
     "start_time": "2023-10-10T17:35:31.017868Z"
    }
   },
   "id": "dca3a31d33e38a29"
  },
  {
   "cell_type": "code",
   "execution_count": 1,
   "outputs": [],
   "source": [],
   "metadata": {
    "collapsed": false,
    "ExecuteTime": {
     "end_time": "2023-10-10T18:16:18.830663Z",
     "start_time": "2023-10-10T18:16:18.823409Z"
    }
   },
   "id": "fe9e89e846e316a2"
  },
  {
   "cell_type": "markdown",
   "source": [
    "<a>Задача 5.<br>\n",
    "Задачка про клеточные автоматы с моего майнора :)))\n",
    "\n",
    "В начале у вас есть список из элементов, которые могут принимать значения: '#' (\"живой\") или '.' (\"мертвый\"). Потом состояния элементов обновляются по следующим правилам:\n",
    "\n",
    "Если у \"живого\" элемента два \"живых\" или нет ни одного \"живого\" соседа, то он \"умирает\".\n",
    "Если у \"мертвого\" элемента есть хотя бы один \"живой\" сосед, то он \"оживает\".\n",
    "В остальных случаях элементы не меняют своего состояния.\n",
    "Прочитайте строку из символов \"#\" и \".\", выведите список, который соответствует следующему шагу состояния системы.\n",
    "\n",
    "Смотрите примеры.\n",
    "\n",
    "Sample Input 1:<br>\n",
    "<a>#####<a><br>\n",
    "Sample Output 1:<br>\n",
    "['#', '.', '.', '.', '#']<br>\n",
    "Sample Input 2:<br>\n",
    ".#.<br>\n",
    "Sample Output 2:<br>\n",
    "['#', '.', '#']<br>\n",
    "Sample Input 3:<br>\n",
    "...<br>\n",
    "Sample Output 3:<br>\n",
    "['.', '.', '.']<br>\n",
    "Sample Input 4:<br>\n",
    ".##..#..#.#.<br>\n",
    "Sample Output 4:<br>\n",
    "['#', '#', '#', '#', '#', '.', '#', '#', '.', '#', '.', '#']<a>"
   ],
   "metadata": {
    "collapsed": false
   },
   "id": "83f38815acb34a91"
  },
  {
   "cell_type": "code",
   "execution_count": 1,
   "outputs": [],
   "source": [],
   "metadata": {
    "collapsed": false,
    "ExecuteTime": {
     "end_time": "2023-10-10T18:16:20.129688Z",
     "start_time": "2023-10-10T18:16:20.125669Z"
    }
   },
   "id": "3bb321b105668665"
  },
  {
   "cell_type": "markdown",
   "source": [
    "<a> Задача 6. \n",
    " Скину как решишь пятую, чтобы не пугать :))<a>"
   ],
   "metadata": {
    "collapsed": false
   },
   "id": "31614e366a4dfcb5"
  },
  {
   "cell_type": "code",
   "execution_count": null,
   "outputs": [],
   "source": [],
   "metadata": {
    "collapsed": false
   },
   "id": "d33fd59e53ef6627"
  },
  {
   "cell_type": "markdown",
   "source": [
    "<a> Задача 7.\n",
    "Есть список чисел num = [123, 323, 432, 643, 587, 239]\n",
    "Программа должна посчитать среднее цифр в каждом числе и сохранить в список, который затем должна вывести<a>"
   ],
   "metadata": {
    "collapsed": false
   },
   "id": "10db2b6fa28731eb"
  },
  {
   "cell_type": "code",
   "execution_count": 2,
   "outputs": [],
   "source": [
    "num = [123, 323, 432, 643, 587, 239]"
   ],
   "metadata": {
    "collapsed": false,
    "ExecuteTime": {
     "end_time": "2023-10-10T18:17:46.857890Z",
     "start_time": "2023-10-10T18:17:46.855150Z"
    }
   },
   "id": "5fc3ab2c103c5635"
  },
  {
   "cell_type": "markdown",
   "source": [
    "<a> Задача 8.\n",
    "Напишите программу, которая будет выводить максимальное число из введенного списка чисел через запятую, не используя функцию max()<a>"
   ],
   "metadata": {
    "collapsed": false
   },
   "id": "6f6ed63926c8c7d6"
  },
  {
   "cell_type": "code",
   "execution_count": null,
   "outputs": [],
   "source": [],
   "metadata": {
    "collapsed": false
   },
   "id": "9fa09e4c76f37db"
  },
  {
   "cell_type": "markdown",
   "source": [
    "<a> Задача 9.\n",
    "Напишите программу, которая будет принимать на вход список слов через пробел, а затем выведет только те слова, в которых есть буква 'a'<a>"
   ],
   "metadata": {
    "collapsed": false
   },
   "id": "4036c3849a66be8e"
  },
  {
   "cell_type": "code",
   "execution_count": 3,
   "outputs": [
    {
     "name": "stdout",
     "output_type": "stream",
     "text": [
      "hi\n",
      "world\n"
     ]
    }
   ],
   "source": [
    "my_list = ['hi', 'world']\n",
    "for i in my_list:\n",
    "    print(i)"
   ],
   "metadata": {
    "collapsed": false,
    "ExecuteTime": {
     "end_time": "2023-10-10T20:50:51.825408Z",
     "start_time": "2023-10-10T20:50:51.823979Z"
    }
   },
   "id": "d5062c1951cf3c5e"
  },
  {
   "cell_type": "code",
   "execution_count": 5,
   "outputs": [
    {
     "name": "stdout",
     "output_type": "stream",
     "text": [
      "hi\n",
      "world\n",
      "hi\n",
      "world\n"
     ]
    }
   ],
   "source": [
    "my_list = ['hi', 'world']\n",
    "for i in my_list:\n",
    "    for j in my_list:\n",
    "        print(j)"
   ],
   "metadata": {
    "collapsed": false,
    "ExecuteTime": {
     "end_time": "2023-10-10T20:52:19.530659Z",
     "start_time": "2023-10-10T20:52:19.522836Z"
    }
   },
   "id": "b1b4258d05770617"
  },
  {
   "cell_type": "code",
   "execution_count": 2,
   "outputs": [
    {
     "ename": "SyntaxError",
     "evalue": "invalid syntax (3012979106.py, line 1)",
     "output_type": "error",
     "traceback": [
      "\u001B[0;36m  Cell \u001B[0;32mIn[2], line 1\u001B[0;36m\u001B[0m\n\u001B[0;31m    uid := int64(binary.LittleEndian.Uint64(entry))\u001B[0m\n\u001B[0m        ^\u001B[0m\n\u001B[0;31mSyntaxError\u001B[0m\u001B[0;31m:\u001B[0m invalid syntax\n"
     ]
    }
   ],
   "source": [],
   "metadata": {
    "collapsed": false,
    "ExecuteTime": {
     "end_time": "2023-10-15T21:35:52.860999Z",
     "start_time": "2023-10-15T21:35:52.836869Z"
    }
   },
   "id": "4ff0bf1d11ea3713"
  }
 ],
 "metadata": {
  "kernelspec": {
   "display_name": "Python 3",
   "language": "python",
   "name": "python3"
  },
  "language_info": {
   "codemirror_mode": {
    "name": "ipython",
    "version": 2
   },
   "file_extension": ".py",
   "mimetype": "text/x-python",
   "name": "python",
   "nbconvert_exporter": "python",
   "pygments_lexer": "ipython2",
   "version": "2.7.6"
  }
 },
 "nbformat": 4,
 "nbformat_minor": 5
}
