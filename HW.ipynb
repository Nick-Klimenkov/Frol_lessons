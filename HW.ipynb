{
 "cells": [
  {
   "cell_type": "markdown",
   "source": [
    "<h3> Цикл while <h3>"
   ],
   "metadata": {
    "collapsed": false
   },
   "id": "5bf9e23979eaf2f8"
  },
  {
   "cell_type": "markdown",
   "source": [
    "<a>Задача 1.<a>\n",
    "<a>Простое число делится на себя и единицу! \n",
    "Напишите программу, которая прочитает число и выведет \"prime\" если число простое и \n",
    "\"composite\" в противном случае<a>"
   ],
   "metadata": {
    "collapsed": false
   },
   "id": "17d33efe4c5cee3c"
  },
  {
   "cell_type": "code",
   "execution_count": null,
   "outputs": [],
   "source": [],
   "metadata": {
    "collapsed": false
   },
   "id": "d71dc53bd88df5b3"
  },
  {
   "cell_type": "markdown",
   "source": [
    "<a>Задача 2.<a>\n",
    "<a>Напишите программу, которая принимает вещественные числа на вход,\n",
    "пока не будет введена точка \".\" Найдите максимум введенной последовательности.\n",
    "Последовательность не пустая.<a>"
   ],
   "metadata": {
    "collapsed": false
   },
   "id": "d1d5219dde58cc00"
  },
  {
   "cell_type": "code",
   "execution_count": null,
   "outputs": [],
   "source": [],
   "metadata": {
    "collapsed": false
   },
   "id": "c7dffcc92b27f59c"
  },
  {
   "cell_type": "markdown",
   "source": [
    "<a>Задача 3.<a>\n",
    "<a>Выведите год, месяц и день на отдельных строках.\n",
    "Пример ввода: \"2023-04-03\" \n",
    "Пример вывода: 2023 04 03<a>"
   ],
   "metadata": {
    "collapsed": false
   },
   "id": "9b3f80b99019df2a"
  },
  {
   "cell_type": "code",
   "execution_count": null,
   "outputs": [],
   "source": [],
   "metadata": {
    "collapsed": false
   },
   "id": "e4ed18c86151f641"
  },
  {
   "cell_type": "markdown",
   "source": [
    "<a>Задача 4.<a>\n",
    "<a>Найдите второй максимум последовательности, т.е. второе по величине. В последовательности есть хотя бы два числа.\n",
    "Числа могут быть вещественные.<a>"
   ],
   "metadata": {
    "collapsed": false
   },
   "id": "bbcd3643253f57f0"
  },
  {
   "cell_type": "code",
   "execution_count": null,
   "outputs": [],
   "source": [],
   "metadata": {
    "collapsed": false
   },
   "id": "d1bc48f6582e4b9e"
  },
  {
   "cell_type": "markdown",
   "source": [
    "<a>Задача 5.<a>\n",
    "<a>Программа принимает на вход числа пока не будет введена точка \".\"\n",
    "Программа должна вывести в двух строках сумма отрицательных и положительных чисел.<a>"
   ],
   "metadata": {
    "collapsed": false
   },
   "id": "b519c4c5d8982232"
  },
  {
   "cell_type": "code",
   "execution_count": null,
   "outputs": [],
   "source": [],
   "metadata": {
    "collapsed": false
   },
   "id": "433e3c564e16982b"
  },
  {
   "cell_type": "markdown",
   "source": [
    "<a>Задача 6.<a>\n",
    "<a>Напишите программу, которая будет вычислять n-ое число Фибоначчи. Число n, которое подается на вход программе, может принимать значения от 0 до 20.<a>"
   ],
   "metadata": {
    "collapsed": false
   },
   "id": "9ae6d8c7fde5e300"
  },
  {
   "cell_type": "code",
   "execution_count": null,
   "outputs": [],
   "source": [],
   "metadata": {
    "collapsed": false
   },
   "id": "5b5fe8b2b7859786"
  },
  {
   "cell_type": "markdown",
   "source": [
    "<h3> Цикл for. Срезы строк <h3>"
   ],
   "metadata": {
    "collapsed": false
   },
   "id": "79f1fb6ace91d675"
  },
  {
   "cell_type": "markdown",
   "source": [
    "<a>Задача 1.<a>\n",
    "<a>Прочитайте строку, из прочитанной строки выведите только нечетные символы.<a>"
   ],
   "metadata": {
    "collapsed": false
   },
   "id": "2c103756c7378539"
  },
  {
   "cell_type": "code",
   "execution_count": 6,
   "outputs": [],
   "source": [],
   "metadata": {
    "collapsed": false,
    "ExecuteTime": {
     "end_time": "2023-10-10T17:33:29.054196Z",
     "start_time": "2023-10-10T17:33:29.042747Z"
    }
   },
   "id": "ac8c511f334ef55d"
  },
  {
   "cell_type": "markdown",
   "source": [
    "<a>Задача 2.<a>\n",
    "<a>Прочитайте строку состоящую из цифр. Превратите её в список чисел, каждое число в котором будет цифрой из строки. Посчитайте среднее арифметическое все чисел в списке.<a>"
   ],
   "metadata": {
    "collapsed": false
   },
   "id": "8f7d17ad9e35401"
  },
  {
   "cell_type": "code",
   "execution_count": 6,
   "outputs": [],
   "source": [],
   "metadata": {
    "collapsed": false,
    "ExecuteTime": {
     "end_time": "2023-10-10T17:33:25.212734Z",
     "start_time": "2023-10-10T17:33:25.179686Z"
    }
   },
   "id": "85a77d80b736dbdf"
  },
  {
   "cell_type": "markdown",
   "source": [
    "<a>Задача 3.<a>\n",
    "<a>Прочитайте две строки и создайте список, в котором будут чередоваться символы из первой и второй строк.\n",
    "Строки, которые подаются на вход в этой задаче, одинаковой длины.\n",
    "Пример ввода:\n",
    "hello\n",
    "world\n",
    "Пример вывода:\n",
    "['h', 'w', 'e', 'o', 'l', 'r', 'l', 'l', 'o', 'd']<a>"
   ],
   "metadata": {
    "collapsed": false
   },
   "id": "a4f8cc15eb44279d"
  },
  {
   "cell_type": "code",
   "execution_count": null,
   "outputs": [],
   "source": [],
   "metadata": {
    "collapsed": false
   },
   "id": "738fa1e3dc635858"
  },
  {
   "cell_type": "markdown",
   "source": [
    "<a>Задача 4.<a>\n",
    "<a>Прочитайте последовательность целых чисел (до введенной точки). Выведите список, в котором на первом месте будет стоять максимум последотвательности, а потом будут идти все остальные числа в исходном порядке.\n",
    "Пример ввода:\n",
    "1\n",
    "2\n",
    "3\n",
    ".\n",
    "Пример вывода:\n",
    "[3, 1, 2]<a>"
   ],
   "metadata": {
    "collapsed": false
   },
   "id": "dca3a31d33e38a29"
  },
  {
   "cell_type": "code",
   "execution_count": null,
   "outputs": [],
   "source": [],
   "metadata": {
    "collapsed": false
   },
   "id": "fe9e89e846e316a2"
  },
  {
   "cell_type": "markdown",
   "source": [
    "<a>Задача 5.<br>\n",
    "Задачка про клеточные автоматы с моего майнора :)))\n",
    "\n",
    "В начале у вас есть список из элементов, которые могут принимать значения: '#' (\"живой\") или '.' (\"мертвый\"). Потом состояния элементов обновляются по следующим правилам:\n",
    "\n",
    "Если у \"живого\" элемента два \"живых\" или нет ни одного \"живого\" соседа, то он \"умирает\".\n",
    "Если у \"мертвого\" элемента есть хотя бы один \"живой\" сосед, то он \"оживает\".\n",
    "В остальных случаях элементы не меняют своего состояния.\n",
    "Прочитайте строку из символов \"#\" и \".\", выведите список, который соответствует следующему шагу состояния системы.\n",
    "\n",
    "Смотрите примеры.\n",
    "\n",
    "Sample Input 1:<br>\n",
    "<a>#####<a><br>\n",
    "Sample Output 1:<br>\n",
    "['#', '.', '.', '.', '#']<br>\n",
    "Sample Input 2:<br>\n",
    ".#.<br>\n",
    "Sample Output 2:<br>\n",
    "['#', '.', '#']<br>\n",
    "Sample Input 3:<br>\n",
    "...<br>\n",
    "Sample Output 3:<br>\n",
    "['.', '.', '.']<br>\n",
    "Sample Input 4:<br>\n",
    ".##..#..#.#.<br>\n",
    "Sample Output 4:<br>\n",
    "['#', '#', '#', '#', '#', '.', '#', '#', '.', '#', '.', '#']<a>"
   ],
   "metadata": {
    "collapsed": false
   },
   "id": "83f38815acb34a91"
  },
  {
   "cell_type": "code",
   "execution_count": null,
   "outputs": [],
   "source": [],
   "metadata": {
    "collapsed": false
   },
   "id": "3bb321b105668665"
  },
  {
   "cell_type": "markdown",
   "source": [
    "<a> Задача 6. \n",
    " Скину как решишь пятую, чтобы не пугать :))<a>"
   ],
   "metadata": {
    "collapsed": false
   },
   "id": "31614e366a4dfcb5"
  },
  {
   "cell_type": "code",
   "execution_count": null,
   "outputs": [],
   "source": [],
   "metadata": {
    "collapsed": false
   },
   "id": "d33fd59e53ef6627"
  }
 ],
 "metadata": {
  "kernelspec": {
   "display_name": "Python 3",
   "language": "python",
   "name": "python3"
  },
  "language_info": {
   "codemirror_mode": {
    "name": "ipython",
    "version": 2
   },
   "file_extension": ".py",
   "mimetype": "text/x-python",
   "name": "python",
   "nbconvert_exporter": "python",
   "pygments_lexer": "ipython2",
   "version": "2.7.6"
  }
 },
 "nbformat": 4,
 "nbformat_minor": 5
}
