{
 "cells": [
  {
   "cell_type": "markdown",
   "source": [
    "<h3> Цикл while <h3>"
   ],
   "metadata": {
    "collapsed": false
   },
   "id": "5bf9e23979eaf2f8"
  },
  {
   "cell_type": "markdown",
   "source": [
    "<a>Задача 1.<a>\n",
    "<a>Простое число делится на себя и единицу! \n",
    "Напишите программу, которая прочитает число и выведет \"prime\" если число простое и \n",
    "\"composite\" в противном случае<a>"
   ],
   "metadata": {
    "collapsed": false
   },
   "id": "17d33efe4c5cee3c"
  },
  {
   "cell_type": "code",
   "execution_count": null,
   "outputs": [],
   "source": [],
   "metadata": {
    "collapsed": false
   },
   "id": "d71dc53bd88df5b3"
  },
  {
   "cell_type": "markdown",
   "source": [
    "<a>Задача 2.<a>\n",
    "<a>Напишите программу, которая принимает вещественные числа на вход,\n",
    "пока не будет введена точка \".\" Найдите максимум введенной последовательности.\n",
    "Последовательность не пустая.<a>"
   ],
   "metadata": {
    "collapsed": false
   },
   "id": "d1d5219dde58cc00"
  },
  {
   "cell_type": "code",
   "execution_count": null,
   "outputs": [],
   "source": [],
   "metadata": {
    "collapsed": false
   },
   "id": "c7dffcc92b27f59c"
  },
  {
   "cell_type": "markdown",
   "source": [
    "<a>Задача 3.<a>\n",
    "<a>Выведите год, месяц и день на отдельных строках.\n",
    "Пример ввода: \"2023-04-03\" \n",
    "Пример вывода: 2023 04 03<a>"
   ],
   "metadata": {
    "collapsed": false
   },
   "id": "9b3f80b99019df2a"
  },
  {
   "cell_type": "code",
   "execution_count": null,
   "outputs": [],
   "source": [],
   "metadata": {
    "collapsed": false
   },
   "id": "e4ed18c86151f641"
  },
  {
   "cell_type": "markdown",
   "source": [
    "<a>Задача 4.<a>\n",
    "<a>Найдите второй максимум последовательности, т.е. второе по величине. В последовательности есть хотя бы два числа.\n",
    "Числа могут быть вещественные.<a>"
   ],
   "metadata": {
    "collapsed": false
   },
   "id": "bbcd3643253f57f0"
  },
  {
   "cell_type": "code",
   "execution_count": null,
   "outputs": [],
   "source": [],
   "metadata": {
    "collapsed": false
   },
   "id": "d1bc48f6582e4b9e"
  },
  {
   "cell_type": "markdown",
   "source": [
    "<a>Задача 5.<a>\n",
    "<a>Программа принимает на вход числа пока не будет введена точка \".\"\n",
    "Программа должна вывести в двух строках сумма отрицательных и положительных чисел.<a>"
   ],
   "metadata": {
    "collapsed": false
   },
   "id": "b519c4c5d8982232"
  },
  {
   "cell_type": "code",
   "execution_count": null,
   "outputs": [],
   "source": [],
   "metadata": {
    "collapsed": false
   },
   "id": "433e3c564e16982b"
  },
  {
   "cell_type": "markdown",
   "source": [
    "<a>Задача 6.<a>\n",
    "<a>Напишите программу, которая будет вычислять n-ое число Фибоначчи. Число n, которое подается на вход программе, может принимать значения от 0 до 20.<a>"
   ],
   "metadata": {
    "collapsed": false
   },
   "id": "9ae6d8c7fde5e300"
  },
  {
   "cell_type": "code",
   "execution_count": null,
   "outputs": [],
   "source": [],
   "metadata": {
    "collapsed": false
   },
   "id": "5b5fe8b2b7859786"
  }
 ],
 "metadata": {
  "kernelspec": {
   "display_name": "Python 3",
   "language": "python",
   "name": "python3"
  },
  "language_info": {
   "codemirror_mode": {
    "name": "ipython",
    "version": 2
   },
   "file_extension": ".py",
   "mimetype": "text/x-python",
   "name": "python",
   "nbconvert_exporter": "python",
   "pygments_lexer": "ipython2",
   "version": "2.7.6"
  }
 },
 "nbformat": 4,
 "nbformat_minor": 5
}
